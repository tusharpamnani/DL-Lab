{
  "nbformat": 4,
  "nbformat_minor": 0,
  "metadata": {
    "colab": {
      "provenance": [],
      "authorship_tag": "ABX9TyPT5lN5KIAfpknniA11Q73w",
      "include_colab_link": true
    },
    "kernelspec": {
      "name": "python3",
      "display_name": "Python 3"
    },
    "language_info": {
      "name": "python"
    }
  },
  "cells": [
    {
      "cell_type": "markdown",
      "metadata": {
        "id": "view-in-github",
        "colab_type": "text"
      },
      "source": [
        "<a href=\"https://colab.research.google.com/github/tusharpamnani/DL-Lab/blob/main/Lab2.ipynb\" target=\"_parent\"><img src=\"https://colab.research.google.com/assets/colab-badge.svg\" alt=\"Open In Colab\"/></a>"
      ]
    },
    {
      "cell_type": "markdown",
      "source": [
        "2A. Implement Perceptron Learning Algorithm for classification of following points <br/>\n",
        "{P0(-1,-1,-1), P1(-1,-1,1), P2(-1,1,-1), P3(-1,1,1), P4(1,-1,-1), P5(1,-1,1), P6(1,1,-1), P7(1,1,1)}<br/> into two classes. <br/>\n",
        "C1 = {P1(1,1,1)}<br/>\n",
        "c2: {P0(-1,-1,-1), P1(-1,-1,1), P2(-1,1,-1), P3(-1,1,1), P4(1,-1,-1), P5(1,-1,1), P6(1,1,-1)}"
      ],
      "metadata": {
        "id": "YiWvz54Z9o0u"
      }
    },
    {
      "cell_type": "markdown",
      "source": [
        "Basic NAND Gate implementation"
      ],
      "metadata": {
        "id": "3xc5w7loEUJR"
      }
    },
    {
      "cell_type": "code",
      "source": [
        "import numpy as np"
      ],
      "metadata": {
        "id": "0WFrTDQVFb6M"
      },
      "execution_count": 13,
      "outputs": []
    },
    {
      "cell_type": "code",
      "source": [
        "def step(weighted_Sum, threshold) :\n",
        "    if weighted_Sum >= threshold:\n",
        "      return 0\n",
        "    else:\n",
        "      return 1"
      ],
      "metadata": {
        "id": "BHDjhr4VDh6b"
      },
      "execution_count": 9,
      "outputs": []
    },
    {
      "cell_type": "code",
      "source": [
        "def nand_gate(inputs, weights):\n",
        "  input_sum = 0\n",
        "  threshold = 0\n",
        "  bias = -3\n",
        "  for i in range(len(inputs)):\n",
        "    input_sum += inputs[i] * weights[i]\n",
        "  return step(input_sum  + bias, threshold)"
      ],
      "metadata": {
        "id": "yyYqPmCDCJZD"
      },
      "execution_count": 10,
      "outputs": []
    },
    {
      "cell_type": "code",
      "source": [
        "inputs = [[0,0,0], [0,0,1], [0,1,0], [0,1,1], [1,0,0], [1,0,1], [1,1,1]]\n",
        "for i in inputs:\n",
        "  weight = [1,1,1]\n",
        "  op = nand_gate(i, weight)\n",
        "  print(i, op)"
      ],
      "metadata": {
        "colab": {
          "base_uri": "https://localhost:8080/"
        },
        "id": "cFhuF9dSDpgR",
        "outputId": "677a2833-f93c-4c27-c257-33b536b7ab2b"
      },
      "execution_count": 11,
      "outputs": [
        {
          "output_type": "stream",
          "name": "stdout",
          "text": [
            "[0, 0, 0] 1\n",
            "[0, 0, 1] 1\n",
            "[0, 1, 0] 1\n",
            "[0, 1, 1] 1\n",
            "[1, 0, 0] 1\n",
            "[1, 0, 1] 1\n",
            "[1, 1, 1] 0\n"
          ]
        }
      ]
    },
    {
      "cell_type": "markdown",
      "source": [
        "Solving the Problem"
      ],
      "metadata": {
        "id": "SiGiKwGZH5Ox"
      }
    },
    {
      "cell_type": "code",
      "source": [
        "data_points = {\n",
        "      'P0': (-1,-1,-1),\n",
        "      'P1': (-1,-1,1),\n",
        "      'P2': (-1,1,-1),\n",
        "      'P3': (-1,1,1),\n",
        "      'P4': (1,-1,-1),\n",
        "      'P5': (1,-1,1),\n",
        "      'P6': (1,1,-1),\n",
        "      'P7': (1,1,1)\n",
        "    }"
      ],
      "metadata": {
        "id": "k88OyTkyFpwR"
      },
      "execution_count": 21,
      "outputs": []
    },
    {
      "cell_type": "code",
      "source": [
        "c1 = ['P7']\n",
        "c2 = ['P0', 'P1', 'P2', 'P3', 'P4', 'P5', 'P6']"
      ],
      "metadata": {
        "id": "G0JXzoJuFf2i"
      },
      "execution_count": 22,
      "outputs": []
    },
    {
      "cell_type": "code",
      "source": [
        "weights = np.zeros(len(data_points['P0']))\n",
        "bias = 0\n",
        "print(\"Initail Weight: \", weights)"
      ],
      "metadata": {
        "colab": {
          "base_uri": "https://localhost:8080/"
        },
        "id": "g56VsgbJE9_G",
        "outputId": "e39a4d14-c0ab-409e-a43d-fe7b7aed1c71"
      },
      "execution_count": 23,
      "outputs": [
        {
          "output_type": "stream",
          "name": "stdout",
          "text": [
            "Initail Weight:  [0. 0. 0.]\n"
          ]
        }
      ]
    },
    {
      "cell_type": "code",
      "source": [
        "learning_rate = 1"
      ],
      "metadata": {
        "id": "_JGGUfugFkHe"
      },
      "execution_count": 24,
      "outputs": []
    },
    {
      "cell_type": "code",
      "source": [
        "epochs = 100"
      ],
      "metadata": {
        "id": "llLsvo4nF4Cf"
      },
      "execution_count": 25,
      "outputs": []
    },
    {
      "cell_type": "code",
      "source": [
        "X = np.array([[-1, -1, -1], [-1, -1, 1], [-1, 1, -1], [-1, 1, 1],\n",
        "              [1, -1, -1], [1, -1, 1], [1, 1, -1], [1, 1, 1]])\n",
        "y = np.array([0, 0, 0, 0, 0, 0, 0, 1])"
      ],
      "metadata": {
        "id": "JlRMD7RcJWny"
      },
      "execution_count": 37,
      "outputs": []
    },
    {
      "cell_type": "code",
      "source": [
        "w = np.zeros(3)"
      ],
      "metadata": {
        "id": "nlBevMPSJbWP"
      },
      "execution_count": 39,
      "outputs": []
    },
    {
      "cell_type": "code",
      "source": [
        "b = 0"
      ],
      "metadata": {
        "id": "v0a8n1svJgeV"
      },
      "execution_count": 41,
      "outputs": []
    },
    {
      "cell_type": "code",
      "source": [
        "for epoch in range(epochs):\n",
        "    for i in range(len(X)):\n",
        "        z = np.dot(X[i], w) + b\n",
        "        prediction = 1 if z >= 0 else 0\n",
        "        if prediction != y[i]:\n",
        "            w = w + learning_rate * (y[i] - prediction) * X[i]\n",
        "            b = b + learning_rate * (y[i] - prediction)"
      ],
      "metadata": {
        "id": "llwnAs4OGlrx"
      },
      "execution_count": 42,
      "outputs": []
    },
    {
      "cell_type": "code",
      "source": [
        "print(\"Learned weights:\", w)\n",
        "print(\"Learned bias:\", b)"
      ],
      "metadata": {
        "colab": {
          "base_uri": "https://localhost:8080/"
        },
        "id": "me1dtxBDHw4f",
        "outputId": "ef8b6812-61f3-4a72-df3f-db8e4a17fdb9"
      },
      "execution_count": 43,
      "outputs": [
        {
          "output_type": "stream",
          "name": "stdout",
          "text": [
            "Learned weights: [1. 1. 1.]\n",
            "Learned bias: -3\n"
          ]
        }
      ]
    },
    {
      "cell_type": "code",
      "source": [
        "new_data_point = np.array([[-1,-1,-1],[-1,-1,1], [-1,1,-1], [-1,1,1],[1,-1,-1], [1,-1,1], [1,1,-1], [1,1,1]])"
      ],
      "metadata": {
        "id": "y80ugjFYI3wj"
      },
      "execution_count": 44,
      "outputs": []
    },
    {
      "cell_type": "code",
      "source": [
        "for i in new_data_point:\n",
        "  z = np.dot(i, w) + b\n",
        "  prediction = 0 if z >= 0 else 1\n",
        "  print(i,prediction)"
      ],
      "metadata": {
        "colab": {
          "base_uri": "https://localhost:8080/"
        },
        "id": "WN-L0ZM_JLuw",
        "outputId": "eab70d8a-0930-462d-88a9-8241d0b52e6f"
      },
      "execution_count": 45,
      "outputs": [
        {
          "output_type": "stream",
          "name": "stdout",
          "text": [
            "[-1 -1 -1] 1\n",
            "[-1 -1  1] 1\n",
            "[-1  1 -1] 1\n",
            "[-1  1  1] 1\n",
            "[ 1 -1 -1] 1\n",
            "[ 1 -1  1] 1\n",
            "[ 1  1 -1] 1\n",
            "[1 1 1] 0\n"
          ]
        }
      ]
    },
    {
      "cell_type": "code",
      "source": [],
      "metadata": {
        "id": "CGXgb-oxJL_z"
      },
      "execution_count": null,
      "outputs": []
    }
  ]
}